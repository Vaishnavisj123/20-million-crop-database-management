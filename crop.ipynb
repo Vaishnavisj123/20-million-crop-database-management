{
 "cells": [
  {
   "cell_type": "code",
   "execution_count": 39,
   "metadata": {},
   "outputs": [],
   "source": [
    "\n",
    "\n",
    "# Initialize the Faker library\n",
    "fake = Faker()\n",
    "\n",
    "# creating  mysql database connection\n",
    "\n",
    "DB_CONFIG = {\n",
    "    \"host\" :'localhost',\n",
    "    \"user\" :'root',\n",
    "    \"password\" :'12345',\n",
    "    \"database\" : 'Crop_management'\n",
    "}\n",
    "\n",
    "#connecting to mysql server\n",
    "conn = mysql.connector.connect(\n",
    "    host=DB_CONFIG['host'],\n",
    "    user=DB_CONFIG['user'],\n",
    "    password=DB_CONFIG['password']\n",
    ")\n",
    "cursor = conn.cursor()\n",
    "\n",
    "# Create database if not exists\n",
    "cursor.execute(\"CREATE DATABASE IF NOT EXISTS Crop_management\")\n",
    "conn.commit()\n",
    "\n",
    "# Connect to the newly created database\n",
    "conn.database = DB_CONFIG['database']\n",
    "\n",
    "#creating table\n",
    "# Create crops table if not exists\n",
    "cursor.execute(\"\"\"\n",
    "CREATE TABLE IF NOT EXISTS crops (\n",
    "    id INT AUTO_INCREMENT PRIMARY KEY,\n",
    "    crop_name VARCHAR(255) NOT NULL,\n",
    "    planting_date DATE,\n",
    "    harvest_date DATE,\n",
    "    growth_stage VARCHAR(255),\n",
    "    pest_control_measures TEXT,\n",
    "    yield_prediction INT\n",
    ")\n",
    "\"\"\")\n",
    "conn.commit()"
   ]
  },
  {
   "cell_type": "code",
   "execution_count": 38,
   "metadata": {},
   "outputs": [],
   "source": [
    "import mysql.connector\n",
    "import random\n",
    "import pandas as pd\n",
    "from faker import Faker\n",
    "from datetime import datetime, timedelta"
   ]
  },
  {
   "cell_type": "code",
   "execution_count": 41,
   "metadata": {},
   "outputs": [],
   "source": [
    "# List of sample crop names\n",
    "crop_names = [\"Wheat\", \"Rice\", \"Corn\", \"Soybean\", \"Barley\", \"Sugarcane\", \"Cotton\", \"Potato\", \"Tomato\", \"Lettuce\"]\n",
    "\n",
    "# List of possible growth stages\n",
    "growth_stages = [\"Seedling\", \"Vegetative\", \"Flowering\", \"Fruiting\", \"Maturity\"]\n",
    "\n",
    "# List of sample pest control measures\n",
    "pest_control_measures_list = [\n",
    "    \"Use of organic pesticides\",\n",
    "    \"Crop rotation\",\n",
    "    \"Neem oil application\",\n",
    "    \"Biological pest control\",\n",
    "    \"Chemical pesticides\",\n",
    "    \"Regular field monitoring\",\n",
    "]\n"
   ]
  },
  {
   "cell_type": "code",
   "execution_count": 42,
   "metadata": {},
   "outputs": [],
   "source": [
    "# Function to generate random data for crops\n",
    "def generate_data():\n",
    "    crop_name = random.choice(crop_names)\n",
    "    planting_date = fake.date_between(start_date=\"-2y\", end_date=\"today\")  # Planting in last 2 years\n",
    "    harvest_date = planting_date + timedelta(days=random.randint(60, 180))  # Harvest after 2-6 months\n",
    "    growth_stage = random.choice(growth_stages)\n",
    "    pest_control = random.choice(pest_control_measures_list)\n",
    "    yield_prediction = random.randint(500, 5000)  # Yield in kg\n",
    "    \n",
    "    return (crop_name, planting_date, harvest_date, growth_stage, pest_control, yield_prediction)"
   ]
  },
  {
   "cell_type": "code",
   "execution_count": 46,
   "metadata": {},
   "outputs": [
    {
     "name": "stdout",
     "output_type": "stream",
     "text": [
      "100000 records inserted...\n",
      "200000 records inserted...\n",
      "300000 records inserted...\n",
      "400000 records inserted...\n",
      "500000 records inserted...\n",
      "600000 records inserted...\n",
      "700000 records inserted...\n",
      "800000 records inserted...\n",
      "900000 records inserted...\n",
      "1000000 records inserted...\n",
      "1100000 records inserted...\n",
      "1200000 records inserted...\n",
      "1300000 records inserted...\n",
      "1400000 records inserted...\n",
      "1500000 records inserted...\n",
      "1600000 records inserted...\n",
      "1700000 records inserted...\n",
      "1800000 records inserted...\n",
      "1900000 records inserted...\n",
      "2000000 records inserted...\n",
      "✅ Data insertion completed successfully!\n",
      "✅ Data exported to crops_data.csv successfully!\n"
     ]
    }
   ],
   "source": [
    "# Batch insert records in chunks\n",
    "batch_size = 100000  # Insert 10,000 at a time for efficiency\n",
    "total_records = 2000000  # Total records to insert\n",
    "for i in range(0, total_records, batch_size):\n",
    "    data_batch = [generate_data() for _ in range(batch_size)]\n",
    "    \n",
    "    # Execute batch insert\n",
    "    cursor.executemany(\"\"\"\n",
    "        INSERT INTO crops (crop_name, planting_date, harvest_date, growth_stage, pest_control_measures, yield_prediction)\n",
    "        VALUES (%s, %s, %s, %s, %s, %s)\n",
    "    \"\"\", data_batch)\n",
    "    conn.commit()\n",
    "    \n",
    "    print(f\"{i + batch_size} records inserted...\")\n",
    "\n",
    "print(\"✅ Data insertion completed successfully!\")\n",
    "\n",
    "\n",
    "# Convert the data_batch to a DataFrame\n",
    "df = pd.DataFrame(data_batch, columns=['crop_name', 'planting_date', 'harvest_date', 'growth_stage', 'pest_control_measures', 'yield_prediction'])\n",
    "\n",
    "# Export the DataFrame to a CSV file\n",
    "df.to_csv('crops_data.csv', index=False)\n",
    "\n",
    "print(\"✅ Data exported to crops_data.csv successfully!\")\n",
    "\n",
    "# Close the database connection\n",
    "cursor.close()\n",
    "conn.close()"
   ]
  }
 ],
 "metadata": {
  "kernelspec": {
   "display_name": "tsp",
   "language": "python",
   "name": "python3"
  },
  "language_info": {
   "codemirror_mode": {
    "name": "ipython",
    "version": 3
   },
   "file_extension": ".py",
   "mimetype": "text/x-python",
   "name": "python",
   "nbconvert_exporter": "python",
   "pygments_lexer": "ipython3",
   "version": "3.13.2"
  }
 },
 "nbformat": 4,
 "nbformat_minor": 2
}
